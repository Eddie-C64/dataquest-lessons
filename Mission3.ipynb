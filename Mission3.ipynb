{
 "cells": [
  {
   "cell_type": "markdown",
   "metadata": {},
   "source": [
    "<!-- mission_number=3 file_list=[] mode=\"singlescreen\" -->\n",
    "\n",
    "# Using Counters\n",
    "## This lesson demonstrates the use of the Counter class to implement Multisets, PMFs, and suites of Bayesian hypotheses.\n",
    "## Vik Paruchuri"
   ]
  },
  {
   "cell_type": "markdown",
   "metadata": {},
   "source": [
    "<!-- type=\"code\" -->\n",
    "\n",
    "# Counters\n",
    "\n",
    "A counter is a map from values to their frequencies.  If you initialize a counter with a string, you get a map from each letter to the number of times it appears.  If two words are anagrams, they yield equal Counters, so you can use Counters to test anagrams in linear time.\n",
    "\n",
    "This lesson is based on an [ipython notebook](https://github.com/AllenDowney/PythonCounterPmf) by Allen Downey."
   ]
  },
  {
   "cell_type": "code",
   "execution_count": 1,
   "metadata": {
    "collapsed": false
   },
   "outputs": [
    {
     "name": "stdout",
     "output_type": "stream",
     "text": [
      "True\n",
      "False\n"
     ]
    }
   ],
   "source": [
    "## Initial\n",
    "\n",
    "from collections import Counter\n",
    "\n",
    "## Display\n",
    "\n",
    "def is_anagram(word1, word2):\n",
    "    \"\"\"Checks whether the words are anagrams.\n",
    "\n",
    "    word1: string\n",
    "    word2: string\n",
    "\n",
    "    returns: boolean\n",
    "    \"\"\"\n",
    "    return Counter(word1) == Counter(word2)\n",
    "\n",
    "print(is_anagram('tachymetric', 'mccarthyite'))\n",
    "print(is_anagram('banana', 'peach'))"
   ]
  },
  {
   "cell_type": "markdown",
   "metadata": {},
   "source": [
    "<!-- type=\"code\" -->\n",
    "\n",
    "# Multisets\n",
    "\n",
    "A Counter is a natural representation of a multiset, which is a set where the elements can appear more than once.  You can extend Counter with set operations like is_subset:\n",
    "\n",
    "You could use `is_subset` in a game like Scrabble to see if a given set of tiles can be used to spell a given word."
   ]
  },
  {
   "cell_type": "code",
   "execution_count": 2,
   "metadata": {
    "collapsed": false
   },
   "outputs": [
    {
     "name": "stdout",
     "output_type": "stream",
     "text": [
      "True\n"
     ]
    }
   ],
   "source": [
    "class Multiset(Counter):\n",
    "    \"\"\"A multiset is a set where elements can appear more than once.\"\"\"\n",
    "\n",
    "    def is_subset(self, other):\n",
    "        \"\"\"Checks whether self is a subset of other.\n",
    "\n",
    "        other: Multiset\n",
    "\n",
    "        returns: boolean\n",
    "        \"\"\"\n",
    "        for char, count in self.items():\n",
    "            if other[char] < count:\n",
    "                return False\n",
    "        return True\n",
    "    \n",
    "    # map the <= operator to is_subset\n",
    "    __le__ = is_subset\n",
    "\n",
    "def can_spell(word, tiles):\n",
    "    \"\"\"Checks whether a set of tiles can spell a word.\n",
    "\n",
    "    word: string\n",
    "    tiles: string\n",
    "\n",
    "    returns: boolean\n",
    "    \"\"\"\n",
    "    return Multiset(word) <= Multiset(tiles)\n",
    "\n",
    "print(can_spell('SYZYGY', 'AGSYYYZ'))"
   ]
  },
  {
   "cell_type": "markdown",
   "metadata": {},
   "source": [
    "<!-- type=\"code\" -->\n",
    "\n",
    "# Probability Mass Functions\n",
    "\n",
    "You can also extend Counter to represent a probability mass function (PMF).\n",
    "\n",
    "`normalize` computes the total of the frequencies and divides through, yielding probabilities that add to 1.\n",
    "\n",
    "`__add__` enumerates all pairs of value and returns a new Pmf that represents the distribution of the sum.\n",
    "\n",
    "`__hash__` and `__id__` make Pmfs hashable; this is not the best way to do it, because they are mutable.  So this implementation comes with a warning that if you use a Pmf as a key, you should not modify it.  A better alternative would be to define a frozen Pmf.\n",
    "\n",
    "`render` returns the values and probabilities in a form ready for plotting"
   ]
  },
  {
   "cell_type": "code",
   "execution_count": 3,
   "metadata": {
    "collapsed": false
   },
   "outputs": [],
   "source": [
    "class Pmf(Counter):\n",
    "    \"\"\"A Counter with probabilities.\"\"\"\n",
    "\n",
    "    def normalize(self):\n",
    "        \"\"\"Normalizes the PMF so the probabilities add to 1.\"\"\"\n",
    "        total = float(sum(self.values()))\n",
    "        for key in self:\n",
    "            self[key] /= total\n",
    "\n",
    "    def __add__(self, other):\n",
    "        \"\"\"Adds two distributions.\n",
    "\n",
    "        The result is the distribution of sums of values from the\n",
    "        two distributions.\n",
    "\n",
    "        other: Pmf\n",
    "\n",
    "        returns: new Pmf\n",
    "        \"\"\"\n",
    "        pmf = Pmf()\n",
    "        for key1, prob1 in self.items():\n",
    "            for key2, prob2 in other.items():\n",
    "                pmf[key1 + key2] += prob1 * prob2\n",
    "        return pmf\n",
    "\n",
    "    def __hash__(self):\n",
    "        \"\"\"Returns an integer hash value.\"\"\"\n",
    "        return id(self)\n",
    "    \n",
    "    def __eq__(self, other):\n",
    "        return self is other\n",
    "\n",
    "    def render(self):\n",
    "        \"\"\"Returns values and their probabilities, suitable for plotting.\"\"\"\n",
    "        return zip(*sorted(self.items()))"
   ]
  },
  {
   "cell_type": "markdown",
   "metadata": {},
   "source": [
    "<!-- type=\"code\" -->\n",
    "\n",
    "# Using the Pmf object\n",
    "\n",
    "As an example, we can make a Pmf object that represents a 6-sided die."
   ]
  },
  {
   "cell_type": "code",
   "execution_count": 4,
   "metadata": {
    "collapsed": false
   },
   "outputs": [
    {
     "name": "stdout",
     "output_type": "stream",
     "text": [
      "Pmf({1: 0.16666666666666666, 2: 0.16666666666666666, 3: 0.16666666666666666, 4: 0.16666666666666666, 5: 0.16666666666666666, 6: 0.16666666666666666})\n"
     ]
    }
   ],
   "source": [
    "d6 = Pmf([1,2,3,4,5,6])\n",
    "d6.normalize()\n",
    "d6.name = 'one die'\n",
    "print(d6)"
   ]
  },
  {
   "cell_type": "markdown",
   "metadata": {},
   "source": [
    "<!-- type=\"code\" -->\n",
    "\n",
    "# Add operator\n",
    "\n",
    "Using the add operator, we can compute the distribution for the sum of two dice."
   ]
  },
  {
   "cell_type": "code",
   "execution_count": 5,
   "metadata": {
    "collapsed": false
   },
   "outputs": [
    {
     "name": "stdout",
     "output_type": "stream",
     "text": [
      "2 0.027777777777777776\n",
      "3 0.05555555555555555\n",
      "4 0.08333333333333333\n",
      "5 0.1111111111111111\n",
      "6 0.1388888888888889\n",
      "7 0.16666666666666669\n",
      "8 0.1388888888888889\n",
      "9 0.1111111111111111\n",
      "10 0.08333333333333333\n",
      "11 0.05555555555555555\n",
      "12 0.027777777777777776\n"
     ]
    }
   ],
   "source": [
    "## Initial\n",
    "d6 = Pmf([1,2,3,4,5,6])\n",
    "d6.normalize()\n",
    "d6.name = 'one die'\n",
    "\n",
    "## Display\n",
    "\n",
    "d6_twice = d6 + d6\n",
    "d6_twice.name = 'two dice'\n",
    "\n",
    "for key, prob in d6_twice.items():\n",
    "    print(key, prob)"
   ]
  },
  {
   "cell_type": "markdown",
   "metadata": {},
   "source": [
    "<!-- type=\"code\" -->\n",
    "\n",
    "# Computing the distribution\n",
    "\n",
    "Using numpy.sum, we can compute the distribution for the sum of three dice. And then plot the results (using Pmf.render)"
   ]
  },
  {
   "cell_type": "code",
   "execution_count": null,
   "metadata": {
    "collapsed": false
   },
   "outputs": [],
   "source": [
    "## Initial\n",
    "\n",
    "import matplotlib.pyplot as plt\n",
    "d6 = Pmf([1,2,3,4,5,6])\n",
    "d6.normalize()\n",
    "d6.name = 'one die'\n",
    "d6_twice = d6 + d6\n",
    "d6_twice.name = 'two dice'\n",
    "\n",
    "## Display\n",
    "\n",
    "pmf_ident = Pmf([0])\n",
    "d6_thrice = sum([d6]*3, pmf_ident)\n",
    "d6_thrice.name = 'three dice'\n",
    "\n",
    "for die in [d6, d6_twice, d6_thrice]:\n",
    "    xs, ys = die.render()\n",
    "    plt.plot(xs, ys, label=die.name, linewidth=3, alpha=0.5)\n",
    "    \n",
    "plt.xlabel('Total')\n",
    "plt.ylabel('Probability')\n",
    "plt.legend()\n",
    "plt.show()"
   ]
  },
  {
   "cell_type": "markdown",
   "metadata": {},
   "source": [
    "<!-- type=\"code\" -->\n",
    "\n",
    "# Bayesian statistics\n",
    "\n",
    "A Suite is a Pmf that represents a set of hypotheses and their probabilities; it provides `bayesian_update`, which updates the probability of the hypotheses based on new data.\n",
    "\n",
    "Suite is an abstract parent class; child classes should provide a likelihood method that evaluates the likelihood of the data under a given hypothesis.  `update_bayesian` loops through the hypothesis, evaluates the likelihood of the data under each hypothesis, and updates the probabilities accordingly.  Then it re-normalizes the PMF."
   ]
  },
  {
   "cell_type": "code",
   "execution_count": null,
   "metadata": {
    "collapsed": false
   },
   "outputs": [],
   "source": [
    "class Suite(Pmf):\n",
    "    \"\"\"Map from hypothesis to probability.\"\"\"\n",
    "\n",
    "    def bayesian_update(self, data):\n",
    "        \"\"\"Performs a Bayesian update.\n",
    "        \n",
    "        Note: called bayesian_update to avoid overriding dict.update\n",
    "\n",
    "        data: result of a die roll\n",
    "        \"\"\"\n",
    "        for hypo in self:\n",
    "            like = self.likelihood(data, hypo)\n",
    "            self[hypo] *= like\n",
    "\n",
    "        self.normalize()"
   ]
  },
  {
   "cell_type": "markdown",
   "metadata": {},
   "source": [
    "<!-- type=\"code\" -->\n",
    "\n",
    "# Suite example\n",
    "\n",
    "As an example, I'll use Suite to solve the \"Dice Problem,\" from Chapter 3 of <i>Think Bayes</i>.\n",
    "\n",
    "\"Suppose I have a box of dice that contains a 4-sided die, a 6-sided die, an 8-sided die, a 12-sided die, and a 20-sided die. If you have ever played Dungeons & Dragons, you know what I am talking about.  Suppose I select a die from the box at random, roll it, and get a 6. What is the probability that I rolled each die?\"\n",
    "\n",
    "I'll start by making a list of Pmfs to represent the dice:"
   ]
  },
  {
   "cell_type": "code",
   "execution_count": null,
   "metadata": {
    "collapsed": false
   },
   "outputs": [],
   "source": [
    "def make_die(num_sides):\n",
    "    die = Pmf(range(1, num_sides+1))\n",
    "    die.name = 'd%d' % num_sides\n",
    "    die.normalize()\n",
    "    return die\n",
    "\n",
    "\n",
    "dice = [make_die(x) for x in [4, 6, 8, 12, 20]]\n",
    "print(dice)"
   ]
  },
  {
   "cell_type": "markdown",
   "metadata": {},
   "source": [
    "<!-- type=\"code\" -->\n",
    "\n",
    "# DiceSuite\n",
    "\n",
    "Next I'll define DiceSuite, which inherits `bayesian_update` from Suite and provides `likelihood`.\n",
    "\n",
    "`data` is the observed die roll, 6 in the example.\n",
    "\n",
    "`hypo` is the hypothetical die I might have rolled; to get the likelihood of the data, I select, from the given die, the probability of the given value. "
   ]
  },
  {
   "cell_type": "code",
   "execution_count": null,
   "metadata": {
    "collapsed": false
   },
   "outputs": [],
   "source": [
    "class DiceSuite(Suite):\n",
    "    \n",
    "    def likelihood(self, data, hypo):\n",
    "        \"\"\"Computes the likelihood of the data under the hypothesis.\n",
    "\n",
    "        data: result of a die roll\n",
    "        hypo: Die object\n",
    "        \"\"\"\n",
    "        return hypo[data]"
   ]
  },
  {
   "cell_type": "markdown",
   "metadata": {},
   "source": [
    "<!-- type=\"code\" -->\n",
    "\n",
    "# Update distribution\n",
    "\n",
    "Finally, I use the list of dice to instantiate a Suite that maps from each die to its prior probability.  By default, all dice have the same prior.\n",
    "\n",
    "Then I update the distribution with the given value and print the results:"
   ]
  },
  {
   "cell_type": "code",
   "execution_count": null,
   "metadata": {
    "collapsed": false
   },
   "outputs": [],
   "source": [
    "## Initial\n",
    "\n",
    "dice = [make_die(x) for x in [4, 6, 8, 12, 20]]\n",
    "\n",
    "## Display\n",
    "\n",
    "dice_suite = DiceSuite(dice)\n",
    "\n",
    "dice_suite.bayesian_update(6)\n",
    "\n",
    "for die, prob in dice_suite.items():\n",
    "    print(die.name)\n",
    "    print(prob)"
   ]
  },
  {
   "cell_type": "markdown",
   "metadata": {},
   "source": [
    "<!-- type=\"code\" -->\n",
    "\n",
    "# Update again\n",
    "\n",
    "As expected, the 4-sided die has been eliminated; it now has 0 probability.  The 6-sided die is the most likely, but the 8-sided die is still quite possible.\n",
    "\n",
    "Now suppose I roll the die again and get an 8.  We can update the Suite again with the new data.\n",
    "\n",
    "Now the 6-sided die has been eliminated, the 8-sided die is most likely, and there is less than a 10% chance that I am rolling a 20-sided die.\n",
    "\n",
    "These examples demonstrate the versatility of the Counter class, one of Python's underused data structures."
   ]
  },
  {
   "cell_type": "code",
   "execution_count": null,
   "metadata": {
    "collapsed": false
   },
   "outputs": [],
   "source": [
    "## Initial\n",
    "\n",
    "dice = [make_die(x) for x in [4, 6, 8, 12, 20]]\n",
    "dice_suite = DiceSuite(dice)\n",
    "\n",
    "## Display\n",
    "\n",
    "dice_suite.bayesian_update(8)\n",
    "\n",
    "for die, prob in dice_suite.items():\n",
    "    print(die.name)\n",
    "    print(prob)"
   ]
  },
  {
   "cell_type": "code",
   "execution_count": null,
   "metadata": {
    "collapsed": true
   },
   "outputs": [],
   "source": []
  }
 ],
 "metadata": {
  "kernelspec": {
   "display_name": "Python 3",
   "language": "python",
   "name": "python3"
  },
  "language_info": {
   "codemirror_mode": {
    "name": "ipython",
    "version": 3
   },
   "file_extension": ".py",
   "mimetype": "text/x-python",
   "name": "python",
   "nbconvert_exporter": "python",
   "pygments_lexer": "ipython3",
   "version": "3.4.2"
  }
 },
 "nbformat": 4,
 "nbformat_minor": 0
}
