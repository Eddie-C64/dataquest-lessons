{
 "cells": [
  {
   "cell_type": "markdown",
   "metadata": {},
   "source": [
    "<!--- mission_number=7 file_list=[\"attemptdata.json\", \"progressdata.json\", \"sessiondata.json\"] mode=\"multiscreen\" premium=False --->\n",
    "\n",
    "# Learning analytics intro\n",
    "## A look at anonymous student data from dataquest.io\n",
    "## Vik Paruchuri"
   ]
  },
  {
   "cell_type": "markdown",
   "metadata": {},
   "source": [
    "<!--- type=\"code\" --->\n",
    "\n",
    "# Before we start\n",
    "\n",
    "Before we get started looking at data, let's take a quick look at the dataquest platform, so we have more context in which to place the data.  This is a code screen.  You can also have video and text screens.  Code screens usually require you to write an answer, which the system checks for correctness.\n",
    "\n",
    "All coding is done in *python 3*.  Don't worry if you don't know python -- you won't be expected to write any complex code.\n",
    "\n",
    "Let's do a quick exercise to see how getting an answer correct looks.\n",
    "\n",
    "## Instructions\n",
    "\n",
    "Type in `print(5)` to have python print out the number 5, then hit the \"Run\" button in the bottom left.  `5` will appear in the output pane at the top right.\n",
    "\n",
    "## Hint\n",
    "\n",
    "Just type `print(5)`.  You can do this!"
   ]
  },
  {
   "cell_type": "code",
   "execution_count": 1,
   "metadata": {
    "collapsed": false
   },
   "outputs": [
    {
     "name": "stdout",
     "output_type": "stream",
     "text": [
      "5\n"
     ]
    },
    {
     "data": {
      "text/plain": [
       "5"
      ]
     },
     "execution_count": 1,
     "metadata": {},
     "output_type": "execute_result"
    }
   ],
   "source": [
    "## Display\n",
    "\n",
    "# This is the code area, where you can type and execute code.\n",
    "# You can assign values to variables here, or anything else you want to do.\n",
    "# Anything that starts with a # is a comment, and is used for explanation, but isn't executed as code.\n",
    "\n",
    "# See how the value for a shows up in the bottom right?  \n",
    "# That section lets us see variables that are defined in the code.\n",
    "a = 5\n",
    "\n",
    "## Answer\n",
    "\n",
    "print(5)\n",
    "\n",
    "## Check val\n",
    "\n",
    "5"
   ]
  },
  {
   "cell_type": "markdown",
   "metadata": {},
   "source": [
    "<!--- type=\"code\" --->\n",
    "\n",
    "# Answer checking\n",
    "\n",
    "In the last screen, the system checked the output of our script.  We can also check for the value of a given variable.  In this screen, the variable `b` will be checked to see if it equals `10`.  We can also do more complex checks for correctness than this.\n",
    "\n",
    "## Instructions\n",
    "\n",
    "Assign the value `10` to the variable `b`.  You can do this with `b = 10`.\n",
    "\n",
    "## Hint\n",
    "\n",
    "Just type `b = 10` in the code area, and hit \"Run\"."
   ]
  },
  {
   "cell_type": "code",
   "execution_count": 2,
   "metadata": {
    "collapsed": false
   },
   "outputs": [
    {
     "data": {
      "text/plain": [
       "['b']"
      ]
     },
     "execution_count": 2,
     "metadata": {},
     "output_type": "execute_result"
    }
   ],
   "source": [
    "## Display\n",
    "\n",
    "b = 0\n",
    "\n",
    "## Answer\n",
    "\n",
    "b = 10\n",
    "\n",
    "## Check vars\n",
    "\n",
    "[\"b\"]"
   ]
  },
  {
   "cell_type": "markdown",
   "metadata": {},
   "source": [
    "<!--- type=\"code\" --->\n",
    "\n",
    "# Looking at student data\n",
    "\n",
    "If you know python, feel free to type and run any code you want -- you don't have to restrict yourself to the analysis shown on any of the screens.\n",
    "\n",
    "We have some anonymized student data that we want to take a deeper look at. Dataquest, like most online learning platforms, has data scattered across multiple silos.\n",
    "\n",
    "Some data that is important to the student learning experience is stored in the database.  Other data, that is less important for operation of the site, is stored elsewhere (we'll talk about this later on).\n",
    "\n",
    "The data we'll look at is from the database, and consists of *progress* data, which stores whether or not a student successfully completed a screen, and what code they wrote.  Progress records are unique to a student and a screen -- by completing the last two screens, each of you generated two new progress records!\n",
    "\n",
    "It also has *attempt* data, which contains a record of each attempt the student made, and what code they wrote.  Each *attempt* record is linked to a progress record -- one progress record can have multiple attempts.  This is how we store a student's current state on a screen, and still keep a record of all their attempts.\n",
    "\n",
    "We've exported the data as a [json](http://json.org/) object to make it possible to analyze.  Ordinarily, we would run SQL queries against a database, but it's not practical in this case to get that access.\n",
    "\n",
    "JSON is a file format, much like csv, but with more metadata stored.  The nice thing about JSON is that python and other languages can parse and display it very easily.\n",
    "\n",
    "In order to make things quicker to analyze, we've randomly sampled data from `50` students only."
   ]
  },
  {
   "cell_type": "code",
   "execution_count": 3,
   "metadata": {
    "collapsed": false
   },
   "outputs": [
    {
     "name": "stdout",
     "output_type": "stream",
     "text": [
      "Progress Record:\n",
      "{\n",
      "    \"fields\": {\n",
      "        \"attempts\": 0,\n",
      "        \"complete\": true,\n",
      "        \"created\": \"2015-04-07T21:21:57.316Z\",\n",
      "        \"last_code\": \"# We'll be coding in python.\\n# Python is a great general purpose language, and is used in a lot of data science and machine learning applications.\\n# If you don't know python, that's okay -- important concepts will be introduced as we go along.\\n# In python, any line that starts with a # is called a comment, and is used to put in notes and messages.\\n# It isn't part of the code, and isn't executed.\",\n",
      "        \"last_context\": null,\n",
      "        \"last_correct_code\": \"# We'll be coding in python.\\n# Python is a great general purpose language, and is used in a lot of data science and machine learning applications.\\n# If you don't know python, that's okay -- important concepts will be introduced as we go along.\\n# In python, any line that starts with a # is called a comment, and is used to put in notes and messages.\\n# It isn't part of the code, and isn't executed.\",\n",
      "        \"last_output\": \"{\\\"check\\\":true,\\\"output\\\":\\\"\\\",\\\"hint\\\":\\\"\\\",\\\"vars\\\":{},\\\"code\\\":\\\"# We'll be coding in python.\\\\n# Python is a great general purpose language, and is used in a lot of data science and machine learning applications.\\\\n# If you don't know python, that's okay -- important concepts will be introduced as we go along.\\\\n# In python, any line that starts with a # is called a comment, and is used to put in notes and messages.\\\\n# It isn't part of the code, and isn't executed.\\\"}\",\n",
      "        \"screen\": 1,\n",
      "        \"updated\": \"2015-04-07T21:25:07.799Z\",\n",
      "        \"user\": 48309\n",
      "    },\n",
      "    \"model\": \"missions.screenprogress\",\n",
      "    \"pk\": 299076\n",
      "}\n",
      "\n",
      "\n",
      "Attempt Record:\n",
      "{\n",
      "    \"fields\": {\n",
      "        \"code\": \"# We'll be coding in python.\\n# Python is a great general purpose language, and is used in a lot of data science and machine learning applications.\\n# If you don't know python, that's okay -- important concepts will be introduced as we go along.\\n# In python, any line that starts with a # is called a comment, and is used to put in notes and messages.\\n# It isn't part of the code, and isn't executed.\",\n",
      "        \"correct\": true,\n",
      "        \"created\": \"2015-03-01T16:33:56.537Z\",\n",
      "        \"screen_progress\": 231467,\n",
      "        \"updated\": \"2015-03-01T16:33:56.537Z\"\n",
      "    },\n",
      "    \"model\": \"missions.screenattempt\",\n",
      "    \"pk\": 62474\n",
      "}\n"
     ]
    }
   ],
   "source": [
    "## Initial\n",
    "import json\n",
    "\n",
    "with open(\"attemptdata.json\") as f:\n",
    "    attempts = json.load(f)\n",
    "    \n",
    "with open(\"progressdata.json\") as f:\n",
    "    progress = json.load(f)\n",
    "    \n",
    "def pretty_print(data):\n",
    "    print(json.dumps(data, sort_keys=True, indent=4, separators=(',', ': ')))\n",
    "\n",
    "## Display\n",
    "\n",
    "# The attempts are stored in the attempts variable, and progress is stored in the progress variable.\n",
    "\n",
    "# Here's how one progress object looks.\n",
    "print(\"Progress Record:\")\n",
    "pretty_print(progress[0])\n",
    "print(\"\\n\")\n",
    "\n",
    "# Here's how one attempt looks.\n",
    "print(\"Attempt Record:\")\n",
    "pretty_print(attempts[0])"
   ]
  },
  {
   "cell_type": "markdown",
   "metadata": {},
   "source": [
    "<!--- type=\"code\" --->\n",
    "\n",
    "# Quick data structure overview\n",
    "\n",
    "Let's take a quick look at the data structure, and see how we can access the fields inside each record.  This will help us as we analyze the data.\n",
    "\n",
    "Both the progess and attempt records have multiple fields.  We'll skip over explaining some of them, but here are partial lists of what they are:\n",
    "\n",
    "*Progress fields*\n",
    "\n",
    "* `attempts` -- a count of how many attempts the student made\n",
    "* `complete` -- whether the student successfully passed the screen (true/false)\n",
    "* `created` -- when the student first saw the screen\n",
    "* `last_code` -- the last code the student wrote\n",
    "* `last_correct_code` -- the last code that was correct\n",
    "* `screen` -- the id of the screen this progress is associated with\n",
    "* `user` -- the id of the user this progress is associated with\n",
    "\n",
    "*Attempt fields*\n",
    "\n",
    "* `code` -- the code that was submitted for this attempt\n",
    "* `correct` -- whether or not the student got the answer right"
   ]
  },
  {
   "cell_type": "code",
   "execution_count": 4,
   "metadata": {
    "collapsed": false
   },
   "outputs": [
    {
     "name": "stdout",
     "output_type": "stream",
     "text": [
      "{'fields': {'updated': '2015-03-01T16:33:56.537Z', 'correct': True, 'screen_progress': 231467, 'code': \"# We'll be coding in python.\\n# Python is a great general purpose language, and is used in a lot of data science and machine learning applications.\\n# If you don't know python, that's okay -- important concepts will be introduced as we go along.\\n# In python, any line that starts with a # is called a comment, and is used to put in notes and messages.\\n# It isn't part of the code, and isn't executed.\", 'created': '2015-03-01T16:33:56.537Z'}, 'model': 'missions.screenattempt', 'pk': 62474}\n",
      "{'fields': {'updated': '2015-03-01T16:34:25.628Z', 'correct': True, 'screen_progress': 231470, 'code': '# The results area to the right will show the output of the code that is executed.\\n# Output will show when you use the print function.\\n# For example, the line below will print out 10.\\nprint(5)\\n', 'created': '2015-03-01T16:34:25.628Z'}, 'model': 'missions.screenattempt', 'pk': 62476}\n",
      "62474\n",
      "{'updated': '2015-03-01T16:33:56.537Z', 'correct': True, 'screen_progress': 231467, 'code': \"# We'll be coding in python.\\n# Python is a great general purpose language, and is used in a lot of data science and machine learning applications.\\n# If you don't know python, that's okay -- important concepts will be introduced as we go along.\\n# In python, any line that starts with a # is called a comment, and is used to put in notes and messages.\\n# It isn't part of the code, and isn't executed.\", 'created': '2015-03-01T16:33:56.537Z'}\n",
      "True\n"
     ]
    }
   ],
   "source": [
    "# Prints the first attempt record in our list -- we start counting at zero\n",
    "# The attempt record is stored as something called a python dictionary\n",
    "print(attempts[0])\n",
    "\n",
    "# Prints the second attempt record\n",
    "print(attempts[1])\n",
    "\n",
    "# We can extract values from a python dictionary by their names\n",
    "# This gets the pk attribute from the first record\n",
    "print(attempts[0][\"pk\"])\n",
    "\n",
    "# This gets the fields attribute from the first attempt, and prints it\n",
    "# As you can see, fields is another dictionary (you can have dictionaries inside dictionaries)\n",
    "print(attempts[0][\"fields\"])\n",
    "\n",
    "# This gets the \"correct\" attribute from \"fields\" in the first attempt record\n",
    "print(attempts[0][\"fields\"][\"correct\"])"
   ]
  },
  {
   "cell_type": "markdown",
   "metadata": {},
   "source": [
    "<!--- type=\"code\" --->\n",
    "\n",
    "# Meta-analysis\n",
    "\n",
    "We can do some interesting meta-analysis of this data.  The first thing that comes to mind is finding out, on average, how many attempts students make per screen."
   ]
  },
  {
   "cell_type": "code",
   "execution_count": 5,
   "metadata": {
    "collapsed": false
   },
   "outputs": [
    {
     "name": "stdout",
     "output_type": "stream",
     "text": [
      "1.8720712277413307\n"
     ]
    }
   ],
   "source": [
    "progress_count = len(progress)\n",
    "attempt_count = len(attempts)\n",
    "\n",
    "# On average, students make about two attempts per screen\n",
    "# Is there anything we can do to make this more nuanced?\n",
    "print(attempt_count / progress_count)"
   ]
  },
  {
   "cell_type": "markdown",
   "metadata": {},
   "source": [
    "<!--- type=\"code\" --->\n",
    "\n",
    "# Correct vs incorrect?\n",
    "\n",
    "Let's see if this attempt count differs when the student eventually got the answer correct (ie, do people who \"give up\" and never complete a screen make more or less attempts?)."
   ]
  },
  {
   "cell_type": "code",
   "execution_count": 6,
   "metadata": {
    "collapsed": false
   },
   "outputs": [
    {
     "name": "stdout",
     "output_type": "stream",
     "text": [
      "1993\n",
      "141\n"
     ]
    }
   ],
   "source": [
    "correct_progress = []\n",
    "incorrect_progress = []\n",
    "\n",
    "for record in progress:\n",
    "    if record[\"fields\"][\"complete\"] == True:\n",
    "        correct_progress.append(record)\n",
    "    else:\n",
    "        incorrect_progress.append(record)\n",
    "\n",
    "# 1993 of the progress records resulted in a correct answer, and 141 did not.\n",
    "# What do you think this means?\n",
    "print(len(correct_progress))\n",
    "print(len(incorrect_progress))\n",
    "\n",
    "# We're stuck a bit now -- we don't know how to find out how many attempts were taken for each set.\n",
    "# We need to learn a key concept before we can go further.\n",
    "# We'll have to be able to match attempts to the relevant progress record."
   ]
  },
  {
   "cell_type": "markdown",
   "metadata": {},
   "source": [
    "<!--- type=\"code\" --->\n",
    "\n",
    "# Matching attempts to progress\n",
    "\n",
    "So, how do we match attempts to progress records? You may have seen a \"pk\" attribute when we printed the progress and attempt records.\n",
    "\n",
    "This is the *primary key* of that record, and it's how we uniquely identify it.  Attempts are linked to progress records by the *primary key*.  We see in the attempt record, inside `fields` that there is an attribute called `screen_progress`. We can find all the attempts related to a progress object by matching the `screen_progress` attribute of the attempt to the `pk` attribute of the progress record."
   ]
  },
  {
   "cell_type": "code",
   "execution_count": 7,
   "metadata": {
    "collapsed": false
   },
   "outputs": [
    {
     "name": "stdout",
     "output_type": "stream",
     "text": [
      "1\n"
     ]
    }
   ],
   "source": [
    "record = progress[0]\n",
    "\n",
    "# Get all the attempts related to the progress record\n",
    "record_attempts = []\n",
    "for attempt in attempts:\n",
    "    if attempt[\"fields\"][\"screen_progress\"] == record[\"pk\"]:\n",
    "        record_attempts.append(attempt)\n",
    "        \n",
    "# Print out how many attempts were made by the student this progress record is for.\n",
    "print(len(record_attempts))"
   ]
  },
  {
   "cell_type": "markdown",
   "metadata": {},
   "source": [
    "<!--- type=\"code\" --->\n",
    "\n",
    "# Do attempt counts differ by correctness?\n",
    "\n",
    "Now, we know enough to figure out if attempt counts differ from screens where a student eventually got the right answer to one where they \"gave up\" and didn't."
   ]
  },
  {
   "cell_type": "code",
   "execution_count": 8,
   "metadata": {
    "collapsed": false
   },
   "outputs": [
    {
     "name": "stdout",
     "output_type": "stream",
     "text": [
      "0.3900709219858156\n",
      "1.9769192172604115\n"
     ]
    }
   ],
   "source": [
    "## Initial\n",
    "\n",
    "correct_progress = []\n",
    "incorrect_progress = []\n",
    "\n",
    "for record in progress:\n",
    "    if record[\"fields\"][\"complete\"] == True:\n",
    "        correct_progress.append(record)\n",
    "    else:\n",
    "        incorrect_progress.append(record)\n",
    "\n",
    "## Display\n",
    "# Find the ids (pk) for the progress records in each set\n",
    "correct_ids = [record[\"pk\"] for record in correct_progress]\n",
    "incorrect_ids = [record[\"pk\"] for record in incorrect_progress]\n",
    "\n",
    "correct_attempts = []\n",
    "incorrect_attempts = []\n",
    "\n",
    "# Put attempts into the right set based on which set their progress record is in.\n",
    "for attempt in attempts:\n",
    "    if attempt[\"fields\"][\"screen_progress\"] in correct_ids:\n",
    "        correct_attempts.append(attempt)\n",
    "    elif attempt[\"fields\"][\"screen_progress\"] in incorrect_ids:\n",
    "        incorrect_attempts.append(attempt)\n",
    "\n",
    "# People made far less attempts on screens where they eventually didn't get the answer\n",
    "# This could mean a few different things.\n",
    "# What do you think it could mean?\n",
    "print(len(incorrect_attempts) / len(incorrect_progress))\n",
    "print(len(correct_attempts) / len(correct_progress))"
   ]
  },
  {
   "cell_type": "markdown",
   "metadata": {},
   "source": [
    "<!--- type=\"code\" --->\n",
    "\n",
    "# Another data store\n",
    "\n",
    "We mentioned earlier that not all student data is stored in the database.  Some data points, like when a student started playing a video, or which button they clicked at what time, aren't relevant to the operation of the site, and thus don't need to be in the database.\n",
    "\n",
    "These are stored in a special analytics datastore.  Typically, these are collected on the frontend of the site. Think of a website as a backend, which holds the database of student information, and the frontend, where students click and interact.  The frontend is what you see in your browser, and the backend is a server somewhere else in the world.  The frontend communicates back and forth with the backend to show the right data in the right place.\n",
    "\n",
    "We'll be looking at a random sample of `200` student *sessions*.  A session is a period in which a student starts on dataquest, completes zero or many lessons, and then leaves.  Each session can contain many events.  There are more events than this tracked, but we've selected a few to analyze:\n",
    "\n",
    "* `started-mission` -- a mission is started by a student\n",
    "* `started-screen` -- a screen in a mission is started\n",
    "* `show-hint` -- a click on the \"hint\" button\n",
    "* `run-code` -- a click on the \"run code\" button\n",
    "* `reset-code` -- a click on the \"reset code\" button\n",
    "* `open-forum` -- a click on the \"forum\" button\n",
    "* `next-screen` -- a click on the \"next\" button\n",
    "* `interactive-mode-start` -- a click on the \"debug\" button\n",
    "* `get-answer` -- a click on the \"answer\" button (shows up after 3 unsuccessful attempts)\n",
    "\n",
    "Our session data is stored in a list of lists.  Each item in the list contains all the events that occured in the session."
   ]
  },
  {
   "cell_type": "code",
   "execution_count": 9,
   "metadata": {
    "collapsed": false
   },
   "outputs": [
    {
     "name": "stdout",
     "output_type": "stream",
     "text": [
      "200\n",
      "38\n"
     ]
    },
    {
     "data": {
      "text/plain": [
       "(array([ 141.,   25.,    8.,    9.,   10.,    1.,    1.,    2.,    2.,    1.]),\n",
       " array([   0. ,   35.7,   71.4,  107.1,  142.8,  178.5,  214.2,  249.9,\n",
       "         285.6,  321.3,  357. ]),\n",
       " <a list of 10 Patch objects>)"
      ]
     },
     "execution_count": 9,
     "metadata": {},
     "output_type": "execute_result"
    },
    {
     "data": {
      "image/png": "[encoded data removed]",
      "text/plain": [
       "<matplotlib.figure.Figure at 0x1071b6208>"
      ]
     },
     "metadata": {},
     "output_type": "display_data"
    }
   ],
   "source": [
    "## Initial\n",
    "\n",
    "import json\n",
    "\n",
    "with open(\"sessiondata.json\") as f:\n",
    "    sessions = json.load(f)\n",
    "\n",
    "## Display\n",
    "\n",
    "# We have 200 sessions\n",
    "print(len(sessions))\n",
    "\n",
    "# The first session has 38 student events\n",
    "print(len(sessions[0]))\n",
    "\n",
    "# We'll make a histogram of event counts per session\n",
    "%matplotlib inline\n",
    "import matplotlib.pyplot as plt\n",
    "plt.hist([len(s) for s in sessions])\n",
    "\n",
    "# The plot will show up in the bottom right\n",
    "# What does this distribution tell you?  Why do you think it is shaped the way it is?"
   ]
  },
  {
   "cell_type": "markdown",
   "metadata": {},
   "source": [
    "<!--- type=\"code\" --->\n",
    "\n",
    "# Most common \"ending\" event\n",
    "\n",
    "One interesting thing to look at is the event that students most commonly performed before they ended their session.  A session end corresponds to when learning on the platform stops, so it could be interesting if there is a pattern here."
   ]
  },
  {
   "cell_type": "code",
   "execution_count": 24,
   "metadata": {
    "collapsed": false
   },
   "outputs": [
    {
     "name": "stdout",
     "output_type": "stream",
     "text": [
      "['next-screen', 'started-mission', 'get-answer', 'started-screen', 'reset-code', 'show-hint', 'run-code']\n"
     ]
    },
    {
     "data": {
      "image/png": "[encoded data removed]",
      "text/plain": [
       "<matplotlib.figure.Figure at 0x108ae85c0>"
      ]
     },
     "metadata": {},
     "output_type": "display_data"
    }
   ],
   "source": [
    "from collections import Counter\n",
    "\n",
    "# Extract the last event in each session\n",
    "ending_events = [s[-1] for s in sessions if len(s) > 0]\n",
    "\n",
    "# Get the event type for all the ending events\n",
    "ending_event_types = [s[\"event_type\"] for s in ending_events]\n",
    "\n",
    "# Count all the unique ending events\n",
    "ending_event_counts = Counter(ending_event_types)\n",
    "\n",
    "# Find all the unique events that students ended on\n",
    "unique_ending_events = list(set(ending_event_types))\n",
    "\n",
    "# Make a list of the counts corresponding to the order in unique_ending_events\n",
    "y_axis = [ending_event_counts[k] for k in unique_ending_events]\n",
    "x_axis = range(len(unique_ending_events))\n",
    "\n",
    "# Make a plot of the last event types, and how often each type occured\n",
    "# What does this tell you?  What more could you analyze?\n",
    "plt.bar(x_axis, y_axis)\n",
    "plt.xticks([x+.5 for x in x_axis], unique_ending_events, rotation=90)"
   ]
  },
  {
   "cell_type": "markdown",
   "metadata": {},
   "source": []
  }
 ],
 "metadata": {
  "kernelspec": {
   "display_name": "Python 3",
   "language": "python",
   "name": "python3"
  },
  "language_info": {
   "codemirror_mode": {
    "name": "ipython",
    "version": 3
   },
   "file_extension": ".py",
   "mimetype": "text/x-python",
   "name": "python",
   "nbconvert_exporter": "python",
   "pygments_lexer": "ipython3",
   "version": "3.4.2"
  }
 },
 "nbformat": 4,
 "nbformat_minor": 0
}
