{
 "cells": [
  {
   "cell_type": "markdown",
   "metadata": {},
   "source": [
    "<!--- mission_number=5 file_list=[\"nba_2013.csv\"] mode=\"singlescreen\" --->\n",
    "\n",
    "# K-nearest neighbors introduction\n",
    "## Use the knn algorithm to predict NBA statistics.\n",
    "## Vik Paruchuri"
   ]
  },
  {
   "cell_type": "markdown",
   "metadata": {},
   "source": [
    "<!--- type=\"code\" --->\n",
    "\n",
    "# A look at the data\n",
    "\n",
    "Before we get started with the KNN algorithm, let's take a look at our data.  Each row in the data contains information on how a player performed in the 2013-2014 NBA season.\n",
    "\n",
    "Here are some selected columns:\n",
    "\n",
    "* `player` -- name of the player\n",
    "* `pos` -- the position of the player\n",
    "* `g` -- number of games the player was in\n",
    "* `gs` -- number of games the player started\n",
    "* `pts` -- total points the player scored\n",
    "\n",
    "See [this site](http://www.databasebasketball.com/about/aboutstats.htm) for an explanation of the rest of them."
   ]
  },
  {
   "cell_type": "code",
   "execution_count": 14,
   "metadata": {
    "collapsed": false
   },
   "outputs": [
    {
     "name": "stdout",
     "output_type": "stream",
     "text": [
      "['player' 'pos' 'age' 'bref_team_id' 'g' 'gs' 'mp' 'fg' 'fga' 'fg.' 'x3p'\n",
      " 'x3pa' 'x3p.' 'x2p' 'x2pa' 'x2p.' 'efg.' 'ft' 'fta' 'ft.' 'orb' 'drb'\n",
      " 'trb' 'ast' 'stl' 'blk' 'tov' 'pf' 'pts' 'season' 'season_end']\n"
     ]
    }
   ],
   "source": [
    "import pandas\n",
    "with open(\"nba_2013.csv\", 'r') as csvfile:\n",
    "    nba = pandas.read_csv(csvfile)\n",
    "\n",
    "# The names of the columns in the data.\n",
    "print(nba.columns.values)"
   ]
  },
  {
   "cell_type": "markdown",
   "metadata": {},
   "source": [
    "<!--- type=\"text\" --->\n",
    "\n",
    "# KNN overview\n",
    "\n",
    "The k-nearest neighbors is based around the simple idea of predicting unknown values by matching them with the most similar known values.\n",
    "\n",
    "Let's say that we have 3 different types of cars:\n",
    "\n",
    "```\n",
    "car,horsepower,racing_stripes,is_fast\n",
    "Honda Accord,180,False,False\n",
    "Yugo,500,True,True\n",
    "Delorean DMC-12,200,True,True\n",
    "```\n",
    "\n",
    "Let's say that we now have another car:\n",
    "\n",
    "```\n",
    "Chevrolet Camaro,400,True,Unknown\n",
    "```\n",
    "\n",
    "We don't know whether or not this car is fast.  In order to predict if it is, we find the most similar known car.  In this case, we would compare the `horsepower` and `racing_stripes` values to find the most similar car, which is the `Yugo`.  Since the Yugo is fast, we would predict that the Camaro is also fast.  This is an example of 1-nearest neighbors -- we only looked at the most similar car.\n",
    "\n",
    "If we performed a 2-nearest neighbors, we would end up with 2 `True` values (for the Delorean and the Yugo), which would average out to `True`.\n",
    "\n",
    "If we did 3-nearest neighbors, we would end up with 2 `True` values and a `False` value, which would average out to `True`."
   ]
  },
  {
   "cell_type": "markdown",
   "metadata": {},
   "source": [
    "<!--- type=\"code\" --->\n",
    "\n",
    "# Euclidean distance\n",
    "\n",
    "Before we can predict using KNN, we need to find some way to figure out which data rows are \"closest\" to the row we're trying to predict on.\n",
    "\n",
    "A simple way to do this is to use Euclidean distance.  The formula is $$\\sqrt{(q_1-p_1)^2 + (q_2-p_2)^2 + \\cdots + (q_n-p_n)^2}$$\n",
    "\n",
    "Let's say we have these two rows (True/False has been converted to 1/0), and we want to find the distance between them:\n",
    "\n",
    "```\n",
    "Honda Accord,180,0\n",
    "Chevrolet Camaro,400,1\n",
    "```\n",
    "\n",
    "We would first only select the numeric columns.  Then the distance becomes $$\\sqrt{(180-400)^2 + (0-1)^2}$$, which is about equal to `220`.\n",
    "\n",
    "## Instructions\n",
    "\n",
    "Make a function for calculating the euclidean distance between two pandas series.  Use the function to find the euclidean distance between `selected_player` and each row in `nba`.  Use the `.apply(func, axis=1)` method on dataframes to apply function `func` to each row.  The function should take `row` as its first argument.  Only use the columns in `distance_columns` to compute the distance.  [Here's](http://pandas.pydata.org/pandas-docs/dev/generated/pandas.DataFrame.apply.html) more on the method.\n",
    "\n",
    "Assign the resulting pandas series to `lebron_distance`.\n",
    "\n",
    "## Hint\n",
    "\n",
    "`selected_player` and the row passed into the euclidean distance function will both be pandas series, and you can get a column value by indexing the series by name.  `row[\"fg\"]` will get you the number of field goals if `row` is a series."
   ]
  },
  {
   "cell_type": "code",
   "execution_count": 63,
   "metadata": {
    "collapsed": false
   },
   "outputs": [
    {
     "data": {
      "text/plain": [
       "['lebron_distance']"
      ]
     },
     "execution_count": 63,
     "metadata": {},
     "output_type": "execute_result"
    }
   ],
   "source": [
    "## Initial\n",
    "\n",
    "# Fill in any NA values without the student knowing.\n",
    "nba.fillna(0, inplace=True)\n",
    "\n",
    "## Display\n",
    "\n",
    "selected_player = nba[nba[\"player\"] == \"LeBron James\"].iloc[0]\n",
    "distance_columns = ['age', 'g', 'gs', 'mp', 'fg', 'fga', 'fg.', 'x3p', 'x3pa', 'x3p.', 'x2p', 'x2pa', 'x2p.', 'efg.', 'ft', 'fta', 'ft.', 'orb', 'drb', 'trb', 'ast', 'stl', 'blk', 'tov', 'pf', 'pts']\n",
    "\n",
    "## Answer\n",
    "\n",
    "import math\n",
    "def euclidean_distance(row):\n",
    "    inner_value = 0\n",
    "    for k in distance_columns:\n",
    "        inner_value += (row[k] - selected_player[k]) ** 2\n",
    "    return math.sqrt(inner_value)\n",
    "\n",
    "lebron_distance = nba.apply(euclidean_distance, axis=1)\n",
    "\n",
    "## Check vars\n",
    "\n",
    "[\"lebron_distance\"]"
   ]
  },
  {
   "cell_type": "markdown",
   "metadata": {},
   "source": [
    "<!--- type=\"code\" --->\n",
    "\n",
    "# Normalizing columns\n",
    "\n",
    "You may have noticed that `horsepower` in the last example had a much larger impact on the final distance than `racing_stripes` did.  This is because `horsepower` values are much larger in absolute terms, and thus dwarf the impact of `racing_stripes` values in the euclidean distance calculations.\n",
    "\n",
    "This can be bad, because a variable having larger values doesn't necessarily make it better at predicting what rows are similar.\n",
    "\n",
    "A simple way to deal with this is to normalize all the columns to have a mean of 0, and a standard deviation of 1.  This will ensure that no single column has a dominant impact on the euclidean distance calculations.\n",
    "\n",
    "To set the mean to 0, we have to find the mean of a column, then subtract the mean from every value in the column.  To set the standard deviation to 1, we divide every value in the column by the standard deviation.  The formula is $$x=\\frac{x-\\mu}{\\sigma}$$.\n",
    "\n",
    "## Instructions\n",
    "\n",
    "Normalize the columns in `nba_numeric`.  Using `.mean()` on a dataframe will return the mean of each column.  Using `.std()` will return the standard deviation of each column.\n",
    "\n",
    "## Hint\n",
    "\n",
    "Subtracting `nba_numeric.mean()` from `nba_numeric` will subtract the mean from each column.  You can follow the same process to divide by standard deviation."
   ]
  },
  {
   "cell_type": "code",
   "execution_count": 23,
   "metadata": {
    "collapsed": false
   },
   "outputs": [
    {
     "data": {
      "text/plain": [
       "['nba_normalized']"
      ]
     },
     "execution_count": 23,
     "metadata": {},
     "output_type": "execute_result"
    }
   ],
   "source": [
    "## Display\n",
    "\n",
    "nba_numeric = nba[distance_columns]\n",
    "\n",
    "## Answer\n",
    "\n",
    "nba_normalized = (nba_numeric - nba_numeric.mean()) / nba_numeric.std()\n",
    "\n",
    "## Check vars\n",
    "\n",
    "[\"nba_normalized\"]"
   ]
  },
  {
   "cell_type": "markdown",
   "metadata": {},
   "source": [
    "<!--- type=\"code\" --->\n",
    "\n",
    "# Finding the nearest neighbor\n",
    "\n",
    "We now know enough to find the nearest neighbor of a given row.  We can use the `distance.euclidean` function from `scipy.spatial`, a much faster way to calculate euclidean distance.\n",
    "\n",
    "## Instructions\n",
    "\n",
    "Find the player most similar to LeBron James by our distance metric.  You can do this by finding the second lowest value in the `euclidean_distances` series (the lowest value will correspond to lebron, as he is most similar to himself), and then cross-referencing the nba dataframe with the same index.\n",
    "\n",
    "Assign the name of the player to `most_similar_to_lebron`.\n",
    "\n",
    "## Hint\n",
    "\n",
    "You can make a new dataframe using `distance_frame = pandas.DataFrame(data={\"dist\": euclidean_distances, \"idx\": euclidean_distances.index})`.  Then you can sort the dataframe on a column using `.sort(\"column_name\")`.  Then it's a matter of picking the second row, finding the `idx` column value, and using that value to get the correct row in the `nba` dataframe."
   ]
  },
  {
   "cell_type": "code",
   "execution_count": 46,
   "metadata": {
    "collapsed": false
   },
   "outputs": [
    {
     "data": {
      "text/plain": [
       "['most_similar_to_lebron']"
      ]
     },
     "execution_count": 46,
     "metadata": {},
     "output_type": "execute_result"
    }
   ],
   "source": [
    "## Display\n",
    "\n",
    "from scipy.spatial import distance\n",
    "\n",
    "# Fill in NA values in nba_normalized\n",
    "nba_normalized.fillna(0, inplace=True)\n",
    "\n",
    "# Find the normalized vector for lebron james.\n",
    "lebron_normalized = nba_normalized[nba[\"player\"] == \"LeBron James\"]\n",
    "\n",
    "# Find the distance between lebron james and everyone else.\n",
    "euclidean_distances = nba_normalized.apply(lambda row: distance.euclidean(row, lebron_normalized), axis=1)\n",
    "\n",
    "## Answer\n",
    "\n",
    "distance_frame = pandas.DataFrame(data={\"dist\": euclidean_distances, \"idx\": euclidean_distances.index})\n",
    "distance_frame.sort(\"dist\", inplace=True)\n",
    "second_smallest = distance_frame.iloc[1][\"idx\"]\n",
    "most_similar_to_lebron = nba.loc[int(second_smallest)][\"player\"]\n",
    "\n",
    "## Check vars\n",
    "\n",
    "[\"most_similar_to_lebron\"]"
   ]
  },
  {
   "cell_type": "markdown",
   "metadata": {},
   "source": [
    "<!--- type=\"code\" --->\n",
    "\n",
    "# Generating training and testing sets\n",
    "\n",
    "Now that we know how to find the nearest neighbors, we can make predictions on a test set.\n",
    "\n",
    "First, we have to generate test and train sets.  In order to do this, we'll use random sampling.  We'll randomly shuffle the index of the `nba` dataframe, and then pick rows using the randomly shuffled values.\n",
    "\n",
    "If we didn't do this, we'd end up predicting and training on the same data set, which would overfit.  We could do cross validation also, which would be slightly better, but slightly more complex."
   ]
  },
  {
   "cell_type": "code",
   "execution_count": 64,
   "metadata": {
    "collapsed": false
   },
   "outputs": [],
   "source": [
    "import random\n",
    "from numpy.random import permutation\n",
    "\n",
    "# Randomly shuffle the index of nba.\n",
    "random_indices = permutation(nba.index)\n",
    "# Set a cutoff for how many items we want in the test set (in this case 1/3 of the items)\n",
    "test_cutoff = math.floor(len(nba)/3)\n",
    "# Generate the test set by taking the first 1/3 of the randomly shuffled indices.\n",
    "test = nba.loc[random_indices[1:test_cutoff]]\n",
    "# Generate the train set with the rest of the data.\n",
    "train = nba.loc[random_indices[test_cutoff:]]"
   ]
  },
  {
   "cell_type": "markdown",
   "metadata": {},
   "source": [
    "<!--- type=\"code\" --->\n",
    "\n",
    "# Using sklearn\n",
    "\n",
    "Instead of having to do it all ourselves, we can use the k-nearest neighbors implementation in scikit-learn.  [Here's](http://scikit-learn.org/stable/modules/neighbors.html) the documentation.  There's a regressor and a classifier available, but we'll be using the regressor, as we have continuous values to predict on.\n",
    "\n",
    "Sklearn performs the normalization and distance finding automatically, and lets us specify how many neighbors we want to look at."
   ]
  },
  {
   "cell_type": "code",
   "execution_count": 73,
   "metadata": {
    "collapsed": false
   },
   "outputs": [],
   "source": [
    "# The columns that we will be making predictions with.\n",
    "x_columns = ['age', 'g', 'gs', 'mp', 'fg', 'fga', 'fg.', 'x3p', 'x3pa', 'x3p.', 'x2p', 'x2pa', 'x2p.', 'efg.', 'ft', 'fta', 'ft.', 'orb', 'drb', 'trb', 'ast', 'stl', 'blk', 'tov', 'pf']\n",
    "# The column that we want to predict.\n",
    "y_column = [\"pts\"]\n",
    "\n",
    "from sklearn.neighbors import KNeighborsRegressor\n",
    "# Create the knn model.\n",
    "knn = KNeighborsRegressor(n_neighbors=5)\n",
    "# Fit the model on the training data.\n",
    "knn.fit(train[x_columns], train[y_column])\n",
    "# Make predictions on the test set using the fit model.\n",
    "predictions = knn.predict(test[x_columns])"
   ]
  },
  {
   "cell_type": "markdown",
   "metadata": {},
   "source": [
    "<!--- type=\"code\" --->\n",
    "\n",
    "# Computing error\n",
    "\n",
    "Now that we know our predictions, we can compute the error involved.  We can compute [mean squared error](http://en.wikipedia.org/wiki/Mean_squared_error).  The formula is $$\\frac{1}{n}\\sum_{i=1}^{n}(\\hat{y_{i}} - y_{i})^{2}$$.\n",
    "\n",
    "## Instructions\n",
    "\n",
    "Compute the mean squared error between `actual` and `predictions`.  Assign the result to `mse`.\n",
    "\n",
    "## Hint\n",
    "\n",
    "Follow the formula -- you can subtract all the values in predictions and actual using `predictions - actual`."
   ]
  },
  {
   "cell_type": "code",
   "execution_count": 72,
   "metadata": {
    "collapsed": false
   },
   "outputs": [
    {
     "data": {
      "text/plain": [
       "['mse']"
      ]
     },
     "execution_count": 72,
     "metadata": {},
     "output_type": "execute_result"
    }
   ],
   "source": [
    "## Display\n",
    "\n",
    "actual = test[y_column]\n",
    "\n",
    "## Answer\n",
    "\n",
    "mse = (((predictions - actual) ** 2).sum()) / len(predictions)\n",
    "\n",
    "## Check vars\n",
    "\n",
    "[\"mse\"]"
   ]
  }
 ],
 "metadata": {
  "kernelspec": {
   "display_name": "Python 3",
   "language": "python",
   "name": "python3"
  },
  "language_info": {
   "codemirror_mode": {
    "name": "ipython",
    "version": 3
   },
   "file_extension": ".py",
   "mimetype": "text/x-python",
   "name": "python",
   "nbconvert_exporter": "python",
   "pygments_lexer": "ipython3",
   "version": "3.4.2"
  }
 },
 "nbformat": 4,
 "nbformat_minor": 0
}
