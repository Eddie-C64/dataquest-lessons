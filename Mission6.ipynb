{
 "cells": [
  {
   "cell_type": "markdown",
   "metadata": {},
   "source": [
    "<!--- mission_number=6 file_list=[\"hn_stories.csv\", \"stop_words.txt\"] mode=\"singlescreen\" --->\n",
    "\n",
    "# Predicting HN upvotes using headlines\n",
    "## Use natural language processing and linear regression to predict upvotes from headlines.\n",
    "## Vik Paruchuri"
   ]
  },
  {
   "cell_type": "markdown",
   "metadata": {},
   "source": [
    "<!--- type=\"markdown\" --->\n",
    "\n",
    "# Looking at the data\n",
    "\n",
    "We'll be looking at a dataset consisting of submissions to [hacker news](http://news.ycombinator.com) from 2006 to 2015.  The data was taken from [here](https://github.com/arnauddri/hn) where Arnaud Drizard used the Hacker News API to scrape it.  We've sampled `100000` rows from the data randomly, and removed all the extraneous columns.  We only have four columns:\n",
    "\n",
    "* `submission_time` -- when the story was submitted.\n",
    "* `url` -- the base url of the submission.\n",
    "* `upvotes` -- number of upvotes the submission got.\n",
    "* `headline` -- the headline of the submission.\n",
    "\n",
    "We'll be using the headline to predict number of upvotes.  The data is stored in the `submissions` variable."
   ]
  },
  {
   "cell_type": "markdown",
   "metadata": {},
   "source": [
    "<!--- type=\"code\" --->\n",
    "\n",
    "# First steps\n",
    "\n",
    "We want to eventually train an algorithm that can be passed in a headline, and tell us how many upvotes it would get.  However, these algorithms only understand numbers, not words.  How do we translate our headlines into something a machine can understand?\n",
    "\n",
    "The first step is to create something called a bag of words matrix.  A bag of word matrix gives us a numerical representation of which words are in which headlines.\n",
    "\n",
    "In order to construct a bag of words matrix, we find the unique words across the whole set of headlines.  Then, we setup a matrix where each row is a headline, and each column is one of the unique words.  Then, we fill in each cell with the number of times that word occured in that headline."
   ]
  },
  {
   "cell_type": "code",
   "execution_count": 32,
   "metadata": {
    "collapsed": false
   },
   "outputs": [
    {
     "name": "stdout",
     "output_type": "stream",
     "text": [
      "   like  raises  Why  80  if  you  python.  use.  apple  Uber ...   than  \\\n",
      "0     0       0    0   0   0    0        0     0      0     0 ...      0   \n",
      "1     0       0    0   0   0    0        0     0      0     0 ...      0   \n",
      "2     0       0    0   0   0    0        0     0      0     0 ...      0   \n",
      "3     0       0    0   0   0    0        0     0      0     0 ...      0   \n",
      "4     0       0    0   0   0    0        0     0      0     0 ...      0   \n",
      "\n",
      "   million  soul  think  language  people  GTA  my  who  HN:  \n",
      "0        0     0      0         0       0    0   0    0    0  \n",
      "1        0     0      0         0       0    0   0    0    0  \n",
      "2        0     0      0         0       0    0   0    0    0  \n",
      "3        0     0      0         0       0    0   0    0    0  \n",
      "4        0     0      0         0       0    0   0    0    0  \n",
      "\n",
      "[5 rows x 51 columns]\n"
     ]
    }
   ],
   "source": [
    "## Initial\n",
    "\n",
    "import pandas\n",
    "submissions = pandas.read_csv(\"hn_stories.csv\")\n",
    "submissions.columns = [\"submission_time\", \"upvotes\", \"url\", \"headline\"]\n",
    "submissions = submissions.dropna()\n",
    "\n",
    "## Display\n",
    "\n",
    "from collections import Counter\n",
    "\n",
    "headlines = [\n",
    "    \"PretzelBros, airbnb for people who like pretzels, raises $2 million\",\n",
    "    \"Top 10 reasons why Go is better than whatever language you use.\",\n",
    "    \"Why working at apple stole my soul (I still love it though)\",\n",
    "    \"80 things I think you should do immediately if you use python.\",\n",
    "    \"Show HN: carjack.me -- Uber meets GTA\"\n",
    "]\n",
    "\n",
    "# Find all the unique words in the headlines.\n",
    "unique_words = list(set(\" \".join(headlines).split(\" \")))\n",
    "def make_matrix(headlines, vocab):\n",
    "    matrix = []\n",
    "    for headline in headlines:\n",
    "        # Count each word in the headline, and make a dictionary.\n",
    "        counter = Counter(headline)\n",
    "        # Turn the dictionary into a matrix row using the vocab.\n",
    "        row = [counter.get(w, 0) for w in vocab]\n",
    "        matrix.append(row)\n",
    "    df = pandas.DataFrame(matrix)\n",
    "    df.columns = unique_words\n",
    "    return df\n",
    "\n",
    "print(make_matrix(headlines, unique_words))"
   ]
  },
  {
   "cell_type": "markdown",
   "metadata": {},
   "source": [
    "<!--- type=\"code\" --->\n",
    "\n",
    "# Removing punctuation\n",
    "\n",
    "The matrix we just made is very sparse -- that means that a lot of the values are zero.  To some extent, this is unavoidable, because the headlines are very different and not very long, but we can take some steps to fix it.  Right now `Why` and `why`, and `use` and `use.` are treated as different, only though they aren't.\n",
    "\n",
    "We can help the parser recognize that these are in fact the same by lowercasing and removing punctuation."
   ]
  },
  {
   "cell_type": "code",
   "execution_count": 33,
   "metadata": {
    "collapsed": false
   },
   "outputs": [
    {
     "name": "stdout",
     "output_type": "stream",
     "text": [
      "   like  raises  pretzels  80  if  you  apple  airbnb  for  immediately ...   \\\n",
      "0     0       0         0   0   0    0      0       0    0            0 ...    \n",
      "1     0       0         0   0   0    0      0       0    0            0 ...    \n",
      "2     0       0         0   0   0    0      0       0    0            0 ...    \n",
      "3     0       0         0   0   0    0      0       0    0            0 ...    \n",
      "4     0       0         0   0   0    0      0       0    0            0 ...    \n",
      "\n",
      "   soul  think  uber  language  pretzelbros  people  top  gta  my  who  \n",
      "0     0      0     0         0            0       0    0    0   0    0  \n",
      "1     0      0     0         0            0       0    0    0   0    0  \n",
      "2     0      0     0         0            0       0    0    0   0    0  \n",
      "3     0      0     0         0            0       0    0    0   0    0  \n",
      "4     0      0     0         0            0       0    0    0   0    0  \n",
      "\n",
      "[5 rows x 47 columns]\n"
     ]
    }
   ],
   "source": [
    "## Display\n",
    "\n",
    "import re\n",
    "\n",
    "# Lowercase, then replace any non-letter, space, or digit character in the headlines.\n",
    "new_headlines = [re.sub(r'[^\\w\\s\\d]','',h.lower()) for h in headlines]\n",
    "# Replace sequences of whitespace with a space character.\n",
    "new_headlines = [re.sub(\"\\s+\", \" \", h) for h in new_headlines]\n",
    "\n",
    "unique_words = list(set(\" \".join(new_headlines).split(\" \")))\n",
    "# We've reduced the number of columns in the matrix a bit.\n",
    "print(make_matrix(new_headlines, unique_words))"
   ]
  },
  {
   "cell_type": "markdown",
   "metadata": {},
   "source": [
    "<!--- type=\"code\" --->\n",
    "\n",
    "# Removing stopwords\n",
    "\n",
    "Certain words don't give you much discriminative ability between good and bad headlines.  Words such as `the`, `a`, and `also` occur commonly enough in all contexts that they don't really tell us much about whether something is good or not.\n",
    "\n",
    "By removing these, we can reduce the size of the matrix, and make training an algorithm faster."
   ]
  },
  {
   "cell_type": "code",
   "execution_count": 34,
   "metadata": {
    "collapsed": false
   },
   "outputs": [
    {
     "name": "stdout",
     "output_type": "stream",
     "text": [
      "   like  raises  pretzels  80  apple  airbnb  immediately  show  reasons  \\\n",
      "0     0       0         0   0      0       0            0     0        0   \n",
      "1     0       0         0   0      0       0            0     0        0   \n",
      "2     0       0         0   0      0       0            0     0        0   \n",
      "3     0       0         0   0      0       0            0     0        0   \n",
      "4     0       0         0   0      0       0            0     0        0   \n",
      "\n",
      "   better ...   things  million  soul  think  uber  language  pretzelbros  \\\n",
      "0       0 ...        0        0     0      0     0         0            0   \n",
      "1       0 ...        0        0     0      0     0         0            0   \n",
      "2       0 ...        0        0     0      0     0         0            0   \n",
      "3       0 ...        0        0     0      0     0         0            0   \n",
      "4       0 ...        0        0     0      0     0         0            0   \n",
      "\n",
      "   people  top  gta  \n",
      "0       0    0    0  \n",
      "1       0    0    0  \n",
      "2       0    0    0  \n",
      "3       0    0    0  \n",
      "4       0    0    0  \n",
      "\n",
      "[5 rows x 34 columns]\n"
     ]
    }
   ],
   "source": [
    "## Initial\n",
    "\n",
    "import re\n",
    "\n",
    "## Display\n",
    "\n",
    "# Read in and split the stopwords file.\n",
    "with open(\"stop_words.txt\", 'r') as f:\n",
    "    stopwords = f.read().split(\"\\n\")\n",
    "\n",
    "# Do the same punctuation replacement that we did for the headlines, \n",
    "# so we're comparing the right things.\n",
    "stopwords = [re.sub(r'[^\\w\\s\\d]','',s.lower()) for s in stopwords]\n",
    "\n",
    "unique_words = list(set(\" \".join(new_headlines).split(\" \")))\n",
    "# Remove stopwords from the vocabulary.\n",
    "unique_words = [w for w in unique_words if w not in stopwords]\n",
    "\n",
    "# We're down to 34 columns, which is way better!\n",
    "print(make_matrix(new_headlines, unique_words))"
   ]
  },
  {
   "cell_type": "markdown",
   "metadata": {},
   "source": [
    "<!--- type=\"code\" --->\n",
    "\n",
    "# Generating a matrix for all the headlines\n",
    "\n",
    "Now, we want to make a bag of words matrix for the whole set of headlines.  We don't want to have to code everything out manually every time, so we'll use a class from [scikit-learn](http://scikit-learn.org/stable/) to do it automatically."
   ]
  },
  {
   "cell_type": "code",
   "execution_count": 35,
   "metadata": {
    "collapsed": false
   },
   "outputs": [
    {
     "name": "stdout",
     "output_type": "stream",
     "text": [
      "[[0 0 1 0 0 0 0 0 0 0 1 0 0 1 1 1 1 0 1 0 0 0 0 0 0 0 0]\n",
      " [1 0 0 0 1 0 0 0 0 1 0 0 0 0 0 0 0 0 0 1 0 0 0 0 0 1 0]\n",
      " [0 0 0 1 0 0 0 0 0 0 0 1 0 0 0 0 0 0 0 0 1 1 0 0 0 0 1]\n",
      " [0 1 0 0 0 0 0 0 1 0 0 0 0 0 0 0 0 1 0 0 0 0 1 1 0 1 0]\n",
      " [0 0 0 0 0 1 1 1 0 0 0 0 1 0 0 0 0 0 0 0 0 0 0 0 1 0 0]]\n",
      "(93712, 50571)\n"
     ]
    }
   ],
   "source": [
    "from sklearn.feature_extraction.text import CountVectorizer\n",
    "\n",
    "# Construct a bag of words matrix.\n",
    "# This will lowercase everything, and ignore all punctuation by default.\n",
    "# It will also remove stop words.\n",
    "vectorizer = CountVectorizer(lowercase=True, stop_words=\"english\")\n",
    "\n",
    "matrix = vectorizer.fit_transform(headlines)\n",
    "# We created our bag of words matrix with far fewer commands.\n",
    "print(matrix.todense())\n",
    "\n",
    "# Let's apply it to all the headlines for all the submissions.\n",
    "# We'll also add the url to the end of the headline so we can take it into account.\n",
    "submissions['full_test'] = submissions[\"headline\"] + \" \" + submissions[\"url\"]\n",
    "full_matrix = vectorizer.fit_transform(submissions[\"headline\"])\n",
    "print(full_matrix.shape)"
   ]
  },
  {
   "cell_type": "markdown",
   "metadata": {},
   "source": [
    "<!--- type=\"code\" --->\n",
    "\n",
    "# Reducing dimensionality\n",
    "\n",
    "We've constructed a matrix, but it now has `50571` unique words, or columns.  This will take a very long time to make predictions with.  We want to speed it up, so we'll need to cut down on this number somehow.\n",
    "\n",
    "One way to do this is to pick a subset of the columns that are the most informative -- that is, differentiate between good and bad headlines the best.  A good way to figure out the most informative columns is to use something called a [chi-squared](http://en.wikipedia.org/wiki/Chi-squared_test) test.  \n",
    "\n",
    "A chi-squared test finds the words that discriminate the most between highly upvoted posts and posts that weren't upvoted.  This can be words that occur a lot in highly upvoted posts, and not at all in posts without upvotes, or words that occur a lot in posts that aren't upvoted, but don't occur in posts that are upvoted.\n",
    "\n",
    "A chi-squared test only works on binary values, so we'll make our upvotes column binary by setting anything with more upvotes than average to `1` and anything with less upvotes than average to `0`.\n",
    "\n",
    "One downside of this is that we are using knowledge from the dataset to select features, and thus introducing some overfitting.  We could get around the overfitting in the \"real world\" by using a subset of the data for feature selection, and using a different subset for training the algorithm.  We'll make things a bit simpler for now and skip that step."
   ]
  },
  {
   "cell_type": "code",
   "execution_count": 36,
   "metadata": {
    "collapsed": false
   },
   "outputs": [],
   "source": [
    "from sklearn.feature_selection import SelectKBest\n",
    "from sklearn.feature_selection import chi2\n",
    "\n",
    "# Convert the upvotes variable to binary so it works with a chi squared test.\n",
    "col = submissions[\"upvotes\"].copy(deep=True)\n",
    "col_mean = col.mean()\n",
    "col[col < col_mean] = 0\n",
    "col[(col > 0) & (col > col_mean)] = 1\n",
    "\n",
    "# Find the 1000 most informative columns\n",
    "selector = SelectKBest(chi2, k=1000)\n",
    "selector.fit(full_matrix, col)\n",
    "top_words = selector.get_support().nonzero()\n",
    "\n",
    "# Pick only the most informative columns in the data.\n",
    "chi_matrix = full_matrix[:,top_words[0]]"
   ]
  },
  {
   "cell_type": "markdown",
   "metadata": {},
   "source": [
    "<!--- type=\"code\" --->\n",
    "\n",
    "# Adding meta features\n",
    "\n",
    "If we ignore the \"meta\" features of the text, we're missing out on a lot of good features.  These features are things like length, amount of punctuation, average word length, and other sentence specific features.\n",
    "\n",
    "Adding these in can greatly increase prediction accuracy.\n",
    "\n",
    "To add them in, we'll loop over our headlines, and apply a function to each one.  Some functions will count the length of the headline in characters, and others will do more advanced things, like counting the number of digits."
   ]
  },
  {
   "cell_type": "code",
   "execution_count": 37,
   "metadata": {
    "collapsed": false
   },
   "outputs": [],
   "source": [
    "## Initial\n",
    "\n",
    "import numpy\n",
    "import re\n",
    "\n",
    "## Display\n",
    "\n",
    "# Our list of functions to apply.\n",
    "transform_functions = [\n",
    "    lambda x: len(x),\n",
    "    lambda x: x.count(\" \"),\n",
    "    lambda x: x.count(\".\"),\n",
    "    lambda x: x.count(\"!\"),\n",
    "    lambda x: x.count(\"?\"),\n",
    "    lambda x: len(x) / (x.count(\" \") + 1),\n",
    "    lambda x: x.count(\" \") / (x.count(\".\") + 1),\n",
    "    lambda x: len(re.findall(\"\\d\", x)),\n",
    "    lambda x: len(re.findall(\"[A-Z]\", x)),\n",
    "]\n",
    "\n",
    "# Apply each function and put the results into a list.\n",
    "columns = []\n",
    "for func in transform_functions:\n",
    "    columns.append(submissions[\"headline\"].apply(func))\n",
    "# Convert the meta features to a numpy array.\n",
    "meta = numpy.asarray(columns).T\n",
    "\n",
    "# Add the meta features to the existing text features.\n",
    "features = numpy.hstack([meta, chi_matrix.todense()])"
   ]
  },
  {
   "cell_type": "markdown",
   "metadata": {},
   "source": [
    "<!--- type=\"code\" --->\n",
    "\n",
    "# Adding in more features\n",
    "\n",
    "There are more features we can work with than just text features.  We have two columns, `id`, and `submission_time`, that add additional information.  Often when doing NLP work, you'll be able to add informative outside features that can make your predictions much better."
   ]
  },
  {
   "cell_type": "code",
   "execution_count": 38,
   "metadata": {
    "collapsed": false
   },
   "outputs": [],
   "source": [
    "columns = []\n",
    "\n",
    "# Convert the submission dates column to datetime.\n",
    "submission_dates = pandas.to_datetime(submissions[\"submission_time\"])\n",
    "\n",
    "# Transform functions for the datetime column.\n",
    "transform_functions = [\n",
    "    lambda x: x.year,\n",
    "    lambda x: x.month,\n",
    "    lambda x: x.day,\n",
    "    lambda x: x.hour,\n",
    "    lambda x: x.minute,\n",
    "]\n",
    "\n",
    "# Apply all functions to the datetime column.\n",
    "for func in transform_functions:\n",
    "    columns.append(submission_dates.apply(func))\n",
    "\n",
    "# Convert the meta features to a numpy array.\n",
    "non_nlp = numpy.asarray(columns).T\n",
    "\n",
    "# Concatenate the features together.\n",
    "full_features = numpy.hstack([non_nlp, features])"
   ]
  },
  {
   "cell_type": "markdown",
   "metadata": {},
   "source": [
    "<!--- type=\"code\" --->\n",
    "\n",
    "# Making predictions\n",
    "\n",
    "Now that we can translate words to numbers, we can make predictions using an algorithm.  We'll randomly pick `75000` headlines as a training set, and then evaluate the performance of the algorithm on the test set of `25000` headlines.\n",
    "\n",
    "For the algorithm, we'll use [ridge regression](http://en.wikipedia.org/wiki/Tikhonov_regularization).  As compared to ordinary linear regression, ridge regression introduces a penalty on the coefficients, which prevents them from becoming too large.  This can help it work with large numbers of predictions (columns), like we have."
   ]
  },
  {
   "cell_type": "code",
   "execution_count": 39,
   "metadata": {
    "collapsed": false
   },
   "outputs": [],
   "source": [
    "from sklearn.linear_model import Ridge\n",
    "import numpy\n",
    "import random\n",
    "\n",
    "train_rows = 75000\n",
    "random.seed(1)\n",
    "\n",
    "# Shuffle the indices for the matrix randomly.\n",
    "indices = list(range(features.shape[0]))\n",
    "random.shuffle(indices)\n",
    "\n",
    "# Create train and test sets.\n",
    "train = full_features[indices[:train_rows], :]\n",
    "test = full_features[indices[train_rows:], :]\n",
    "train_upvotes = submissions[\"upvotes\"].iloc[indices[:train_rows]]\n",
    "test_upvotes = submissions[\"upvotes\"].iloc[indices[train_rows:]]\n",
    "train = numpy.nan_to_num(train)\n",
    "\n",
    "# Run the regression and generate predictions for the test set.\n",
    "reg = Ridge(alpha=10)\n",
    "reg.fit(train, train_upvotes)\n",
    "predictions = reg.predict(test)"
   ]
  },
  {
   "cell_type": "markdown",
   "metadata": {
    "collapsed": true
   },
   "source": [
    "<!--- type=\"code\" --->\n",
    "\n",
    "# Evaluating error\n",
    "\n",
    "We now have predictions, but how do we determine how good they are?  One good way is to calculate the error between the predictions on the test set and the actual upvote counts on the test set.\n",
    "\n",
    "We'll also want a baseline to compare this to to see if the results are good.  We can do this by using a simple method to make \"predictions\" for the test set, and comparing the performance of our baseline to that method.  One very simple baseline is an average baseline -- just take the average number of upvotes, and use that as a prediction.\n",
    "\n",
    "We'll use [mean absolute error](http://en.wikipedia.org/wiki/Mean_absolute_error) as an error metric.  It's very simple -- just subtract the actual value from the prediction, take the absolute value, then add all the differences together and divide by the number of differences to get an average."
   ]
  },
  {
   "cell_type": "code",
   "execution_count": 40,
   "metadata": {
    "collapsed": false
   },
   "outputs": [
    {
     "name": "stdout",
     "output_type": "stream",
     "text": [
      "15.1950403551\n",
      "15.9035832815\n"
     ]
    }
   ],
   "source": [
    "# We're going to use mean absolute error as an error metric.\n",
    "# Our error is about 15.2 upvotes, which means that, on average, \n",
    "# our prediction is 15.2 upvotes away from the actual number of upvotes.\n",
    "print(sum(abs(predictions - test_upvotes)) / len(predictions))\n",
    "\n",
    "# As a baseline, we'll use the average number of upvotes\n",
    "# across all submissions.\n",
    "# The error here is 15.9 -- our estimate is better, but not hugely so.\n",
    "# There either isn't a ton of predictive value encoded in the \n",
    "# data we have, or we aren't extracting it well.\n",
    "average_upvotes = sum(test_upvotes)/len(test_upvotes)\n",
    "print(sum(abs(average_upvotes - test_upvotes)) / len(predictions))\n"
   ]
  },
  {
   "cell_type": "markdown",
   "metadata": {},
   "source": [
    "<!--- type=\"markdown\" --->\n",
    "\n",
    "# Improvements\n",
    "\n",
    "This method worked reasonably but not stunningly well on this dataset, and the data had some predictive value.\n",
    "\n",
    "We could improve this by using a different predictive algorithm, like random forest.  We could also use ngrams, such as bigrams and trigrams, when we are generating our bag of words matrix.  We could also take other data into account, like the user who submitted the article.\n",
    "\n",
    "Ultimately, all of these methods will take much longer to run than what we have so far, but will likely reduce error a bit."
   ]
  }
 ],
 "metadata": {
  "kernelspec": {
   "display_name": "Python 3",
   "language": "python",
   "name": "python3"
  },
  "language_info": {
   "codemirror_mode": {
    "name": "ipython",
    "version": 3
   },
   "file_extension": ".py",
   "mimetype": "text/x-python",
   "name": "python",
   "nbconvert_exporter": "python",
   "pygments_lexer": "ipython3",
   "version": "3.4.2"
  }
 },
 "nbformat": 4,
 "nbformat_minor": 0
}
